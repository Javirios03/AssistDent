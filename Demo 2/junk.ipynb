{
 "cells": [
  {
   "cell_type": "code",
   "execution_count": null,
   "metadata": {},
   "outputs": [],
   "source": [
    "import whisper\n",
    "import wave\n",
    "import pyaudio\n",
    "import time\n",
    "import os"
   ]
  },
  {
   "cell_type": "code",
   "execution_count": null,
   "metadata": {},
   "outputs": [],
   "source": [
    "for modelo in [\"tiny\", \"base\", \"small\", \"medium\", \"large\"]:\n",
    "    start = time.time()\n",
    "    model = whisper.load_model(modelo)\n",
    "    print(f\"Tiempo en cargar el modelo {modelo}: {time.time() - start:.2f}\")\n",
    "    num_params = sum(p.numel() for p in model.parameters())\n",
    "    model_size = num_params * 4 / (1024 ** 2)\n",
    "    print(f\"El modelo ocupa {model_size:.2f} MBs\")\n",
    "    print(f\"Número de parámetros: {num_params}\")"
   ]
  },
  {
   "cell_type": "code",
   "execution_count": 8,
   "metadata": {},
   "outputs": [],
   "source": [
    "def grabar_audio(archivo=\"comando.wav\", duracion=5, tasa_muestreo=16000):\n",
    "    \"\"\"Graba audio desde el micrófono y lo guarda en un archivo WAV.\"\"\"\n",
    "    formato = pyaudio.paInt16\n",
    "    canales = 1\n",
    "    buffer = 1024\n",
    "\n",
    "    p = pyaudio.PyAudio()\n",
    "    stream = p.open(format=formato, channels=canales, rate=tasa_muestreo, input=True, frames_per_buffer=buffer)\n",
    "\n",
    "    print(\"🎤 Grabando...\")\n",
    "\n",
    "    frames = []\n",
    "    for _ in range(0, int(tasa_muestreo / buffer * duracion)):\n",
    "        data = stream.read(buffer)\n",
    "        frames.append(data)\n",
    "\n",
    "    print(\"✅ Grabación finalizada\")\n",
    "\n",
    "    stream.stop_stream()\n",
    "    stream.close()\n",
    "    p.terminate()\n",
    "\n",
    "    with wave.open(archivo, 'wb') as wf:\n",
    "        wf.setnchannels(canales)\n",
    "        wf.setsampwidth(p.get_sample_size(formato))\n",
    "        wf.setframerate(tasa_muestreo)\n",
    "        wf.writeframes(b''.join(frames))\n",
    "\n",
    "    return archivo\n",
    "\n",
    "def transcribir_audio(archivo=\"comando.wav\", modelo=\"base\"):\n",
    "    \"\"\"Usa Whisper para transcribir un archivo de audio.\"\"\"\n",
    "    print(f\"🧠 Cargando modelo {modelo}...\")\n",
    "    model = whisper.load_model(modelo)\n",
    "\n",
    "    print(\"🎙️ Transcribiendo audio...\")\n",
    "    resultado = model.transcribe(archivo, language=\"es\")\n",
    "    \n",
    "    print(\"✅ Transcripción completada:\")\n",
    "    print(resultado[\"text\"])\n",
    "    \n",
    "    return resultado[\"text\"]"
   ]
  },
  {
   "cell_type": "code",
   "execution_count": 18,
   "metadata": {},
   "outputs": [
    {
     "name": "stdout",
     "output_type": "stream",
     "text": [
      "🎤 Grabando...\n",
      "✅ Grabación finalizada\n"
     ]
    }
   ],
   "source": [
    "archivo = grabar_audio(duracion=20)"
   ]
  },
  {
   "cell_type": "code",
   "execution_count": 19,
   "metadata": {},
   "outputs": [
    {
     "name": "stdout",
     "output_type": "stream",
     "text": [
      "Probando modelo tiny\n",
      "🧠 Cargando modelo tiny...\n",
      "🎙️ Transcribiendo audio...\n",
      "✅ Transcripción completada:\n",
      " Abris Fits de paciente. Javier Rios Montes, de 21 años de edad, nacido el 26 de diciembre de 2003 con número de teléfono 6, 5, 9, 1, 5, 5, 5, 2, 4. Se queja de que le dule las muelas. Tras una inspección preliminar, vamos a arrancarle una una todas las muelas.\n",
      "Tiempo de ejecución: 1.77 s\n",
      "Probando modelo base\n",
      "🧠 Cargando modelo base...\n",
      "🎙️ Transcribiendo audio...\n",
      "✅ Transcripción completada:\n",
      " Abrié el ficha de paciente. Javier Rios Montes, de 21 años de edad nacido el 26 de diciembre de 2003, con número de teléfono 659-155-524. Se queja de que le dole las muelas. Tras una inspección preliminar vamos a arrancarle una a una todas las muelas.\n",
      "Tiempo de ejecución: 2.53 s\n",
      "Probando modelo small\n",
      "🧠 Cargando modelo small...\n",
      "🎙️ Transcribiendo audio...\n",
      "✅ Transcripción completada:\n",
      " Abre ficha de paciente. Javier Rios Montés, de 21 años de edad, nacido el 26 de diciembre de 2003 con número de teléfono 659-155-524. Se queja de que le due las muelas. Tras una inspección preliminar vamos a arrancarle una a una todas las muelas.\n",
      "Tiempo de ejecución: 7.00 s\n",
      "Probando modelo medium\n",
      "🧠 Cargando modelo medium...\n",
      "🎙️ Transcribiendo audio...\n",
      "✅ Transcripción completada:\n",
      " ¡Abrir ficha de paciente! Javier Ríos Montes, de 21 años de edad, nacido el 26 de diciembre de 2003, con número de teléfono 659-155-524. Se queja de que le duelen las muelas. Tras una inspección preliminar, vamos a arrancarle, una a una, todas las muelas.\n",
      "Tiempo de ejecución: 20.43 s\n",
      "Probando modelo large\n",
      "🧠 Cargando modelo large...\n",
      "🎙️ Transcribiendo audio...\n",
      "✅ Transcripción completada:\n",
      " Abrir ficha de paciente. Javier Ríos Montes, de 21 años de edad, nacido el 26 de diciembre de 2003, con número de teléfono 659-155-524. Se queja de que le duelen las muelas. Tras una inspección preliminar, vamos a arrancarle una a una todas las muelas.\n",
      "Tiempo de ejecución: 71.94 s\n"
     ]
    }
   ],
   "source": [
    "folder_path = os.path.join(os.getcwd(), \"data\", \"Demo2\")\n",
    "os.makedirs(folder_path, exist_ok=True)\n",
    "\n",
    "for modelo in [\"tiny\", \"base\", \"small\", \"medium\", \"large\"]:\n",
    "    inicio = time.time()\n",
    "    print(f\"Probando modelo {modelo}\")\n",
    "    transcript = transcribir_audio(\"comando.wav\", modelo)\n",
    "\n",
    "    file_path = os.path.join(folder_path, f\"Transcripcion1_{modelo}.txt\")\n",
    "\n",
    "    with open(file_path, \"w\", encoding=\"utf-8\") as file:\n",
    "        file.write(transcript)\n",
    "    print(f\"Tiempo de ejecución: {time.time() - inicio:.2f} s\")"
   ]
  }
 ],
 "metadata": {
  "kernelspec": {
   "display_name": "assist_dent",
   "language": "python",
   "name": "python3"
  },
  "language_info": {
   "codemirror_mode": {
    "name": "ipython",
    "version": 3
   },
   "file_extension": ".py",
   "mimetype": "text/x-python",
   "name": "python",
   "nbconvert_exporter": "python",
   "pygments_lexer": "ipython3",
   "version": "3.9.13"
  }
 },
 "nbformat": 4,
 "nbformat_minor": 2
}
